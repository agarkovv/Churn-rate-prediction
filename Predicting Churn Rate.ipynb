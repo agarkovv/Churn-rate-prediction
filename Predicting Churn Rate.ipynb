{
 "cells": [
  {
   "cell_type": "code",
   "execution_count": null,
   "metadata": {
    "execution": {
     "iopub.execute_input": "2022-10-09T03:32:32.433831Z",
     "iopub.status.busy": "2022-10-09T03:32:32.43292Z",
     "iopub.status.idle": "2022-10-09T03:32:34.439956Z",
     "shell.execute_reply": "2022-10-09T03:32:34.438776Z",
     "shell.execute_reply.started": "2022-10-09T03:32:32.433707Z"
    },
    "id": "SQIrka7yEEYu",
    "outputId": "ef45a9f2-7571-47b1-e697-b474b65cb0fb",
    "papermill": {
     "duration": 1.87878,
     "end_time": "2022-10-08T14:59:11.57887",
     "exception": false,
     "start_time": "2022-10-08T14:59:09.70009",
     "status": "completed"
    },
    "tags": []
   },
   "outputs": [],
   "source": [
    "import numpy as np\n",
    "import pandas as pd\n",
    "import seaborn as sns\n",
    "\n",
    "from catboost import CatBoostClassifier\n",
    "from matplotlib import pyplot as plt\n",
    "from sklearn.compose import ColumnTransformer\n",
    "from sklearn.decomposition import PCA\n",
    "from sklearn.ensemble import RandomForestClassifier, StackingClassifier\n",
    "from sklearn.linear_model import LogisticRegression\n",
    "from sklearn.model_selection import GridSearchCV\n",
    "from sklearn.neighbors import KNeighborsClassifier\n",
    "from sklearn.pipeline import Pipeline\n",
    "from sklearn.preprocessing import StandardScaler, OneHotEncoder\n",
    "from sklearn.tree import DecisionTreeClassifier, plot_tree\n",
    "from pprint import pprint\n",
    "from warnings import filterwarnings\n",
    "\n",
    "filterwarnings(\"ignore\", category=FutureWarning)"
   ]
  },
  {
   "cell_type": "code",
   "execution_count": null,
   "metadata": {
    "execution": {
     "iopub.execute_input": "2022-10-09T03:32:34.441909Z",
     "iopub.status.busy": "2022-10-09T03:32:34.441597Z",
     "iopub.status.idle": "2022-10-09T03:32:34.508664Z",
     "shell.execute_reply": "2022-10-09T03:32:34.507611Z",
     "shell.execute_reply.started": "2022-10-09T03:32:34.441881Z"
    },
    "id": "pw-Brue9EEY3",
    "papermill": {
     "duration": 0.089179,
     "end_time": "2022-10-08T14:59:11.714718",
     "exception": false,
     "start_time": "2022-10-08T14:59:11.625539",
     "status": "completed"
    },
    "tags": []
   },
   "outputs": [],
   "source": [
    "INPUT_DIR = \"../input/advanced-dls-spring-2021/\"\n",
    "OUTPUT_DIR = \"./\"\n",
    "data = pd.read_csv(INPUT_DIR + \"train.csv\")\n",
    "X_test = pd.read_csv(INPUT_DIR + \"test.csv\")"
   ]
  },
  {
   "cell_type": "code",
   "execution_count": null,
   "metadata": {
    "execution": {
     "iopub.execute_input": "2022-10-09T03:32:34.510529Z",
     "iopub.status.busy": "2022-10-09T03:32:34.510185Z",
     "iopub.status.idle": "2022-10-09T03:32:34.52013Z",
     "shell.execute_reply": "2022-10-09T03:32:34.518715Z",
     "shell.execute_reply.started": "2022-10-09T03:32:34.510498Z"
    },
    "papermill": {
     "duration": 0.030099,
     "end_time": "2022-10-08T14:59:11.761831",
     "exception": false,
     "start_time": "2022-10-08T14:59:11.731732",
     "status": "completed"
    },
    "tags": []
   },
   "outputs": [],
   "source": [
    "data.shape"
   ]
  },
  {
   "cell_type": "code",
   "execution_count": null,
   "metadata": {
    "execution": {
     "iopub.execute_input": "2022-10-09T03:32:34.523067Z",
     "iopub.status.busy": "2022-10-09T03:32:34.522653Z",
     "iopub.status.idle": "2022-10-09T03:32:34.536366Z",
     "shell.execute_reply": "2022-10-09T03:32:34.53517Z",
     "shell.execute_reply.started": "2022-10-09T03:32:34.523027Z"
    },
    "papermill": {
     "duration": 0.036714,
     "end_time": "2022-10-08T14:59:11.823202",
     "exception": false,
     "start_time": "2022-10-08T14:59:11.786488",
     "status": "completed"
    },
    "tags": []
   },
   "outputs": [],
   "source": [
    "data.dtypes"
   ]
  },
  {
   "cell_type": "code",
   "execution_count": null,
   "metadata": {
    "execution": {
     "iopub.execute_input": "2022-10-09T03:32:34.53816Z",
     "iopub.status.busy": "2022-10-09T03:32:34.537769Z",
     "iopub.status.idle": "2022-10-09T03:32:34.570682Z",
     "shell.execute_reply": "2022-10-09T03:32:34.569416Z",
     "shell.execute_reply.started": "2022-10-09T03:32:34.538114Z"
    },
    "papermill": {
     "duration": 0.052953,
     "end_time": "2022-10-08T14:59:11.891335",
     "exception": false,
     "start_time": "2022-10-08T14:59:11.838382",
     "status": "completed"
    },
    "tags": []
   },
   "outputs": [],
   "source": [
    "data.sample(5, random_state=0)"
   ]
  },
  {
   "cell_type": "code",
   "execution_count": null,
   "metadata": {
    "execution": {
     "iopub.execute_input": "2022-10-09T03:32:34.572936Z",
     "iopub.status.busy": "2022-10-09T03:32:34.572453Z",
     "iopub.status.idle": "2022-10-09T03:32:34.581188Z",
     "shell.execute_reply": "2022-10-09T03:32:34.579747Z",
     "shell.execute_reply.started": "2022-10-09T03:32:34.57289Z"
    },
    "id": "KgnkkF5bEEY9",
    "papermill": {
     "duration": 0.030584,
     "end_time": "2022-10-08T14:59:11.944422",
     "exception": false,
     "start_time": "2022-10-08T14:59:11.913838",
     "status": "completed"
    },
    "tags": []
   },
   "outputs": [],
   "source": [
    "num_cols = [\n",
    "    \"ClientPeriod\",\n",
    "    \"MonthlySpending\",\n",
    "    \"TotalSpent\",\n",
    "]\n",
    "\n",
    "cat_cols = [\n",
    "    \"Sex\",\n",
    "    \"IsSeniorCitizen\",\n",
    "    \"HasPartner\",\n",
    "    \"HasChild\",\n",
    "    \"HasPhoneService\",\n",
    "    \"HasMultiplePhoneNumbers\",\n",
    "    \"HasInternetService\",\n",
    "    \"HasOnlineSecurityService\",\n",
    "    \"HasOnlineBackup\",\n",
    "    \"HasDeviceProtection\",\n",
    "    \"HasTechSupportAccess\",\n",
    "    \"HasOnlineTV\",\n",
    "    \"HasMovieSubscription\",\n",
    "    \"HasContractPhone\",\n",
    "    \"IsBillingPaperless\",\n",
    "    \"PaymentMethod\",\n",
    "]\n",
    "\n",
    "target = 'Churn'"
   ]
  },
  {
   "cell_type": "code",
   "execution_count": null,
   "metadata": {
    "execution": {
     "iopub.execute_input": "2022-10-09T03:32:34.584091Z",
     "iopub.status.busy": "2022-10-09T03:32:34.583509Z",
     "iopub.status.idle": "2022-10-09T03:32:34.629764Z",
     "shell.execute_reply": "2022-10-09T03:32:34.628961Z",
     "shell.execute_reply.started": "2022-10-09T03:32:34.584044Z"
    },
    "papermill": {
     "duration": 0.07675,
     "end_time": "2022-10-08T14:59:12.04965",
     "exception": false,
     "start_time": "2022-10-08T14:59:11.9729",
     "status": "completed"
    },
    "tags": []
   },
   "outputs": [],
   "source": [
    "print(f\"Duplicated rows: {data.duplicated(keep=False).sum()}\")\n",
    "print(f\"Duplicated rows without target: {data.drop(target, axis=1).duplicated(keep=False).sum()}\")"
   ]
  },
  {
   "cell_type": "markdown",
   "metadata": {
    "papermill": {
     "duration": 0.017371,
     "end_time": "2022-10-08T14:59:12.087262",
     "exception": false,
     "start_time": "2022-10-08T14:59:12.069891",
     "status": "completed"
    },
    "tags": []
   },
   "source": [
    "We have 28 identical rows. And if we drop the target column this number increases up to 41. Sometimes, we can't predict one client class from another no matter how good our model is."
   ]
  },
  {
   "cell_type": "code",
   "execution_count": null,
   "metadata": {
    "execution": {
     "iopub.execute_input": "2022-10-09T03:32:34.631529Z",
     "iopub.status.busy": "2022-10-09T03:32:34.631198Z",
     "iopub.status.idle": "2022-10-09T03:32:34.70355Z",
     "shell.execute_reply": "2022-10-09T03:32:34.702515Z",
     "shell.execute_reply.started": "2022-10-09T03:32:34.6315Z"
    },
    "papermill": {
     "duration": 0.091822,
     "end_time": "2022-10-08T14:59:12.195194",
     "exception": false,
     "start_time": "2022-10-08T14:59:12.103372",
     "status": "completed"
    },
    "tags": []
   },
   "outputs": [],
   "source": [
    "data[data.drop(target, axis=1).duplicated(keep=False)].sort_values(by=[*data.columns])"
   ]
  },
  {
   "cell_type": "code",
   "execution_count": null,
   "metadata": {
    "execution": {
     "iopub.execute_input": "2022-10-09T03:32:34.705158Z",
     "iopub.status.busy": "2022-10-09T03:32:34.704823Z",
     "iopub.status.idle": "2022-10-09T03:32:35.114213Z",
     "shell.execute_reply": "2022-10-09T03:32:35.113111Z",
     "shell.execute_reply.started": "2022-10-09T03:32:34.705127Z"
    },
    "id": "tHC6gWabEEZA",
    "papermill": {
     "duration": 0.422724,
     "end_time": "2022-10-08T14:59:12.635128",
     "exception": false,
     "start_time": "2022-10-08T14:59:12.212404",
     "status": "completed"
    },
    "tags": []
   },
   "outputs": [],
   "source": [
    "data.replace(\" \", np.nan, inplace=True)\n",
    "X_test.replace(\" \", np.nan, inplace=True)\n",
    "pd.DataFrame(data.isna().sum(), columns=[\"NaN Count\"]) \\\n",
    "    .sort_values(\"NaN Count\") \\\n",
    "    .plot(kind=\"barh\", legend=False, figsize=(12, 8));"
   ]
  },
  {
   "cell_type": "markdown",
   "metadata": {
    "papermill": {
     "duration": 0.019532,
     "end_time": "2022-10-08T14:59:12.67244",
     "exception": false,
     "start_time": "2022-10-08T14:59:12.652908",
     "status": "completed"
    },
    "tags": []
   },
   "source": [
    "We have 9 NaN's in TotalSpent column. Let's take a closer look at these clients."
   ]
  },
  {
   "cell_type": "code",
   "execution_count": null,
   "metadata": {
    "execution": {
     "iopub.execute_input": "2022-10-09T03:32:35.118666Z",
     "iopub.status.busy": "2022-10-09T03:32:35.118296Z",
     "iopub.status.idle": "2022-10-09T03:32:35.152406Z",
     "shell.execute_reply": "2022-10-09T03:32:35.151272Z",
     "shell.execute_reply.started": "2022-10-09T03:32:35.118634Z"
    },
    "papermill": {
     "duration": 0.054256,
     "end_time": "2022-10-08T14:59:12.744568",
     "exception": false,
     "start_time": "2022-10-08T14:59:12.690312",
     "status": "completed"
    },
    "tags": []
   },
   "outputs": [],
   "source": [
    "data.sort_values(\"TotalSpent\").tail(10)"
   ]
  },
  {
   "cell_type": "markdown",
   "metadata": {
    "papermill": {
     "duration": 0.017659,
     "end_time": "2022-10-08T14:59:12.780427",
     "exception": false,
     "start_time": "2022-10-08T14:59:12.762768",
     "status": "completed"
    },
    "tags": []
   },
   "source": [
    "Obviously it's new clients who did not make first payment yet. Let's fill them with zeroes."
   ]
  },
  {
   "cell_type": "code",
   "execution_count": null,
   "metadata": {
    "execution": {
     "iopub.execute_input": "2022-10-09T03:32:35.153972Z",
     "iopub.status.busy": "2022-10-09T03:32:35.153615Z",
     "iopub.status.idle": "2022-10-09T03:32:35.163615Z",
     "shell.execute_reply": "2022-10-09T03:32:35.162714Z",
     "shell.execute_reply.started": "2022-10-09T03:32:35.15392Z"
    },
    "papermill": {
     "duration": 0.03177,
     "end_time": "2022-10-08T14:59:12.831042",
     "exception": false,
     "start_time": "2022-10-08T14:59:12.799272",
     "status": "completed"
    },
    "tags": []
   },
   "outputs": [],
   "source": [
    "data[\"TotalSpent\"] = data.TotalSpent.fillna(0).astype(float)\n",
    "X_test[\"TotalSpent\"] = X_test.TotalSpent.fillna(0).astype(float)"
   ]
  },
  {
   "cell_type": "code",
   "execution_count": null,
   "metadata": {
    "execution": {
     "iopub.execute_input": "2022-10-09T03:32:35.165826Z",
     "iopub.status.busy": "2022-10-09T03:32:35.165202Z",
     "iopub.status.idle": "2022-10-09T03:32:37.468156Z",
     "shell.execute_reply": "2022-10-09T03:32:37.467205Z",
     "shell.execute_reply.started": "2022-10-09T03:32:35.165792Z"
    },
    "id": "NZkbgFJZEEZE",
    "papermill": {
     "duration": 2.218394,
     "end_time": "2022-10-08T14:59:15.067322",
     "exception": false,
     "start_time": "2022-10-08T14:59:12.848928",
     "status": "completed"
    },
    "tags": []
   },
   "outputs": [],
   "source": [
    "fig, axes = plt.subplots(5, 4, figsize=(25, 20))\n",
    "for ax, col in zip(axes.flatten(), data.columns):\n",
    "    ax.set_title(col)\n",
    "    if col in cat_cols or col == target:\n",
    "        ax.pie(data[col].value_counts(), autopct=\"%1.1f%%\", labels=data[col].value_counts().index)\n",
    "    else:\n",
    "        data[col].plot(kind=\"hist\", ec=\"black\", ax=ax)"
   ]
  },
  {
   "cell_type": "markdown",
   "metadata": {
    "papermill": {
     "duration": 0.023438,
     "end_time": "2022-10-08T14:59:15.111912",
     "exception": false,
     "start_time": "2022-10-08T14:59:15.088474",
     "status": "completed"
    },
    "tags": []
   },
   "source": [
    "On chart Churn in the lower right corner you can see that class 1 represented by a quarter of the data. What means people are three times more likely stay than leave."
   ]
  },
  {
   "cell_type": "markdown",
   "metadata": {
    "papermill": {
     "duration": 0.020092,
     "end_time": "2022-10-08T14:59:15.152468",
     "exception": false,
     "start_time": "2022-10-08T14:59:15.132376",
     "status": "completed"
    },
    "tags": []
   },
   "source": [
    "Many columns have values «No internet service» and «No Phone service». Since we already have the «HasPhoneService» and «HasInternetService» features, this information is redundant. We can combine them with the «No» option.\n",
    "\n",
    "The PaymentMethod column contains «Mailed check», «Electronic check», «Bank transfer (automatic)» and «Credit card (automatic)» values. I guess the only relevant here is whether the payment is made automatically or not."
   ]
  },
  {
   "cell_type": "markdown",
   "metadata": {
    "papermill": {
     "duration": 0.020429,
     "end_time": "2022-10-08T14:59:15.193779",
     "exception": false,
     "start_time": "2022-10-08T14:59:15.17335",
     "status": "completed"
    },
    "tags": []
   },
   "source": [
    "Let's take a look at the correlation with the target variable."
   ]
  },
  {
   "cell_type": "code",
   "execution_count": null,
   "metadata": {
    "execution": {
     "iopub.execute_input": "2022-10-09T03:32:37.469465Z",
     "iopub.status.busy": "2022-10-09T03:32:37.469138Z",
     "iopub.status.idle": "2022-10-09T03:32:37.497329Z",
     "shell.execute_reply": "2022-10-09T03:32:37.496363Z",
     "shell.execute_reply.started": "2022-10-09T03:32:37.469436Z"
    },
    "papermill": {
     "duration": 0.05044,
     "end_time": "2022-10-08T14:59:15.265025",
     "exception": false,
     "start_time": "2022-10-08T14:59:15.214585",
     "status": "completed"
    },
    "tags": []
   },
   "outputs": [],
   "source": [
    "tmp = data.groupby(\"PaymentMethod\", as_index=False).agg({\"Churn\": [\"sum\", \"count\"]})\n",
    "tmp[\"Churn (%)\"] = 100 * tmp[\"Churn\", \"sum\"] / tmp[\"Churn\", \"count\"]\n",
    "tmp.sort_values(\"Churn (%)\").reset_index(drop=True)"
   ]
  },
  {
   "cell_type": "markdown",
   "metadata": {
    "papermill": {
     "duration": 0.020921,
     "end_time": "2022-10-08T14:59:15.307325",
     "exception": false,
     "start_time": "2022-10-08T14:59:15.286404",
     "status": "completed"
    },
    "tags": []
   },
   "source": [
    "Surprisingly the difference between electronic check and other payment methods is much more than between automatic and non-automatic."
   ]
  },
  {
   "cell_type": "markdown",
   "metadata": {
    "papermill": {
     "duration": 0.020997,
     "end_time": "2022-10-08T14:59:15.349335",
     "exception": false,
     "start_time": "2022-10-08T14:59:15.328338",
     "status": "completed"
    },
    "tags": []
   },
   "source": [
    "Now let's check the correlation between the presence of a phone and a target."
   ]
  },
  {
   "cell_type": "code",
   "execution_count": null,
   "metadata": {
    "execution": {
     "iopub.execute_input": "2022-10-09T03:32:37.499485Z",
     "iopub.status.busy": "2022-10-09T03:32:37.499149Z",
     "iopub.status.idle": "2022-10-09T03:32:37.522759Z",
     "shell.execute_reply": "2022-10-09T03:32:37.521647Z",
     "shell.execute_reply.started": "2022-10-09T03:32:37.499447Z"
    },
    "papermill": {
     "duration": 0.048738,
     "end_time": "2022-10-08T14:59:15.421371",
     "exception": false,
     "start_time": "2022-10-08T14:59:15.372633",
     "status": "completed"
    },
    "tags": []
   },
   "outputs": [],
   "source": [
    "tmp = data.groupby(\"HasContractPhone\", as_index=False).agg({\"Churn\": [\"sum\", \"count\"]})\n",
    "tmp[\"Churn (%)\"] = 100 * tmp[\"Churn\", \"sum\"] / tmp[\"Churn\", \"count\"]\n",
    "tmp.sort_values(\"Churn (%)\").reset_index(drop=True)"
   ]
  },
  {
   "cell_type": "markdown",
   "metadata": {
    "papermill": {
     "duration": 0.020901,
     "end_time": "2022-10-08T14:59:15.463289",
     "exception": false,
     "start_time": "2022-10-08T14:59:15.442388",
     "status": "completed"
    },
    "tags": []
   },
   "source": [
    "People with long-term phone contracts are reluctant to terminate the them."
   ]
  },
  {
   "cell_type": "code",
   "execution_count": null,
   "metadata": {
    "execution": {
     "iopub.execute_input": "2022-10-09T03:32:37.524875Z",
     "iopub.status.busy": "2022-10-09T03:32:37.524557Z",
     "iopub.status.idle": "2022-10-09T03:32:37.548058Z",
     "shell.execute_reply": "2022-10-09T03:32:37.546774Z",
     "shell.execute_reply.started": "2022-10-09T03:32:37.524847Z"
    },
    "papermill": {
     "duration": 0.046694,
     "end_time": "2022-10-08T14:59:15.530758",
     "exception": false,
     "start_time": "2022-10-08T14:59:15.484064",
     "status": "completed"
    },
    "tags": []
   },
   "outputs": [],
   "source": [
    "tmp = data.groupby(\"HasInternetService\", as_index=False).agg({\"Churn\": [\"sum\", \"count\"]})\n",
    "tmp[\"Churn (%)\"] = 100 * tmp[\"Churn\", \"sum\"] / tmp[\"Churn\", \"count\"]\n",
    "tmp.sort_values(\"Churn (%)\").reset_index(drop=True)"
   ]
  },
  {
   "cell_type": "markdown",
   "metadata": {
    "papermill": {
     "duration": 0.020796,
     "end_time": "2022-10-08T14:59:15.573032",
     "exception": false,
     "start_time": "2022-10-08T14:59:15.552236",
     "status": "completed"
    },
    "tags": []
   },
   "source": [
    "People with optics are more often unsatisfied with provider serivces than DSL users."
   ]
  },
  {
   "cell_type": "markdown",
   "metadata": {
    "papermill": {
     "duration": 0.020824,
     "end_time": "2022-10-08T14:59:15.615168",
     "exception": false,
     "start_time": "2022-10-08T14:59:15.594344",
     "status": "completed"
    },
    "tags": []
   },
   "source": [
    "Let's take a look how loyalty depends on СlientPeriod."
   ]
  },
  {
   "cell_type": "code",
   "execution_count": null,
   "metadata": {
    "execution": {
     "iopub.execute_input": "2022-10-09T03:32:37.550156Z",
     "iopub.status.busy": "2022-10-09T03:32:37.549798Z",
     "iopub.status.idle": "2022-10-09T03:32:39.857247Z",
     "shell.execute_reply": "2022-10-09T03:32:39.855695Z",
     "shell.execute_reply.started": "2022-10-09T03:32:37.550126Z"
    },
    "papermill": {
     "duration": 2.137127,
     "end_time": "2022-10-08T14:59:17.77309",
     "exception": false,
     "start_time": "2022-10-08T14:59:15.635963",
     "status": "completed"
    },
    "tags": []
   },
   "outputs": [],
   "source": [
    "sns.catplot(data=data, x=\"ClientPeriod\", hue=\"Churn\", kind=\"count\", height=8, aspect=20/8)\n",
    "plt.xticks(rotation=45);"
   ]
  },
  {
   "cell_type": "markdown",
   "metadata": {
    "papermill": {
     "duration": 0.022008,
     "end_time": "2022-10-08T14:59:17.818133",
     "exception": false,
     "start_time": "2022-10-08T14:59:17.796125",
     "status": "completed"
    },
    "tags": []
   },
   "source": [
    "New users are more inclined to churn with peak in the first month. Regular customers remain faithful to the habits."
   ]
  },
  {
   "cell_type": "markdown",
   "metadata": {
    "id": "fwfksF1gEEZI",
    "papermill": {
     "duration": 0.021493,
     "end_time": "2022-10-08T14:59:17.861541",
     "exception": false,
     "start_time": "2022-10-08T14:59:17.840048",
     "status": "completed"
    },
    "tags": []
   },
   "source": [
    "Let's convert categorical features to int type according to observations. I.e. values «No internet service» and «No phone service» get the same number as «No» - 0. Values in «PaymentMethod» and «HadContractPhone» will be numbered according to their correlation with the target. Binary values will be assigned 0 and 1."
   ]
  },
  {
   "cell_type": "code",
   "execution_count": null,
   "metadata": {
    "execution": {
     "iopub.execute_input": "2022-10-09T03:32:39.860107Z",
     "iopub.status.busy": "2022-10-09T03:32:39.858855Z",
     "iopub.status.idle": "2022-10-09T03:32:39.95045Z",
     "shell.execute_reply": "2022-10-09T03:32:39.948986Z",
     "shell.execute_reply.started": "2022-10-09T03:32:39.860056Z"
    },
    "papermill": {
     "duration": 0.114074,
     "end_time": "2022-10-08T14:59:17.999483",
     "exception": false,
     "start_time": "2022-10-08T14:59:17.885409",
     "status": "completed"
    },
    "tags": []
   },
   "outputs": [],
   "source": [
    "patterns = {\n",
    "    \"No\": 0,\n",
    "    \"No internet service\": 0,\n",
    "    \"No phone service\": 0,\n",
    "    \"Yes\": 1,\n",
    "    \"Male\": 0,\n",
    "    \"Female\": 1,\n",
    "    \"DSL\": 1,\n",
    "    \"Fiber optic\": 2,\n",
    "    \"Month-to-month\": 0,\n",
    "    \"One year\": 1,\n",
    "    \"Two year\": 2,\n",
    "    \"Credit card (automatic)\": 0,\n",
    "    \"Bank transfer (automatic)\": 1,\n",
    "    \"Mailed check\": 2,\n",
    "    \"Electronic check\": 3,\n",
    "}\n",
    "X_train = data.replace(patterns).drop(target, axis=1)\n",
    "y_train = data[target]\n",
    "X_test = X_test.replace(patterns)"
   ]
  },
  {
   "cell_type": "markdown",
   "metadata": {
    "papermill": {
     "duration": 0.022012,
     "end_time": "2022-10-08T14:59:18.044488",
     "exception": false,
     "start_time": "2022-10-08T14:59:18.022476",
     "status": "completed"
    },
    "tags": []
   },
   "source": [
    "It makes possible to draw correlation heatmap."
   ]
  },
  {
   "cell_type": "code",
   "execution_count": null,
   "metadata": {
    "execution": {
     "iopub.execute_input": "2022-10-09T03:32:39.952761Z",
     "iopub.status.busy": "2022-10-09T03:32:39.952283Z",
     "iopub.status.idle": "2022-10-09T03:32:42.337164Z",
     "shell.execute_reply": "2022-10-09T03:32:42.33588Z",
     "shell.execute_reply.started": "2022-10-09T03:32:39.952714Z"
    },
    "papermill": {
     "duration": 2.358005,
     "end_time": "2022-10-08T14:59:20.424243",
     "exception": false,
     "start_time": "2022-10-08T14:59:18.066238",
     "status": "completed"
    },
    "tags": []
   },
   "outputs": [],
   "source": [
    "sns.heatmap(data=pd.concat([X_train, y_train], axis=1).corr(),\n",
    "            annot=True,\n",
    "            cmap=\"coolwarm\",\n",
    "            center=0,\n",
    "            ax=plt.subplots(figsize=(15,10))[1]);"
   ]
  },
  {
   "cell_type": "markdown",
   "metadata": {
    "papermill": {
     "duration": 0.029203,
     "end_time": "2022-10-08T14:59:20.48107",
     "exception": false,
     "start_time": "2022-10-08T14:59:20.451867",
     "status": "completed"
    },
    "tags": []
   },
   "source": [
    "HasContractPhone has strongest correlation with target (-0.4), then goes ClientPeriod(-0.35), and HasInternetService (0.31). In first two cases correlation is negative. It's positive in the last. It's tempting to think that provider gained very loyal phone users over the years, then decided to go to internet market and didn't do so well..."
   ]
  },
  {
   "cell_type": "markdown",
   "metadata": {
    "papermill": {
     "duration": 0.02655,
     "end_time": "2022-10-08T14:59:20.53347",
     "exception": false,
     "start_time": "2022-10-08T14:59:20.50692",
     "status": "completed"
    },
    "tags": []
   },
   "source": [
    "Let's evaluate feature importance with RandomForest."
   ]
  },
  {
   "cell_type": "code",
   "execution_count": null,
   "metadata": {
    "execution": {
     "iopub.execute_input": "2022-10-09T03:32:42.339145Z",
     "iopub.status.busy": "2022-10-09T03:32:42.338735Z",
     "iopub.status.idle": "2022-10-09T03:32:46.652509Z",
     "shell.execute_reply": "2022-10-09T03:32:46.651102Z",
     "shell.execute_reply.started": "2022-10-09T03:32:42.339107Z"
    },
    "papermill": {
     "duration": 4.286535,
     "end_time": "2022-10-08T14:59:24.845805",
     "exception": false,
     "start_time": "2022-10-08T14:59:20.55927",
     "status": "completed"
    },
    "tags": []
   },
   "outputs": [],
   "source": [
    "clf = RandomForestClassifier(n_estimators=1000, min_impurity_decrease=0.001)\n",
    "clf.fit(X_train, y_train)\n",
    "pd.DataFrame(clf.feature_importances_, index=X_train.columns, columns=[\"importance\"]) \\\n",
    "    .sort_values(\"importance\") \\\n",
    "    .plot(kind=\"barh\", legend=False, figsize=(12, 8));\n",
    "plt.title(\"Feature importance\");"
   ]
  },
  {
   "cell_type": "markdown",
   "metadata": {
    "papermill": {
     "duration": 0.026263,
     "end_time": "2022-10-08T14:59:24.898473",
     "exception": false,
     "start_time": "2022-10-08T14:59:24.87221",
     "status": "completed"
    },
    "tags": []
   },
   "source": [
    "The chart confirms our observations."
   ]
  },
  {
   "cell_type": "markdown",
   "metadata": {
    "papermill": {
     "duration": 0.026117,
     "end_time": "2022-10-08T14:59:24.951658",
     "exception": false,
     "start_time": "2022-10-08T14:59:24.925541",
     "status": "completed"
    },
    "tags": []
   },
   "source": [
    "Now let's do the same with a single DecisionTree."
   ]
  },
  {
   "cell_type": "code",
   "execution_count": null,
   "metadata": {
    "execution": {
     "iopub.execute_input": "2022-10-09T03:32:46.654585Z",
     "iopub.status.busy": "2022-10-09T03:32:46.654087Z",
     "iopub.status.idle": "2022-10-09T03:32:47.500121Z",
     "shell.execute_reply": "2022-10-09T03:32:47.4992Z",
     "shell.execute_reply.started": "2022-10-09T03:32:46.654532Z"
    },
    "papermill": {
     "duration": 0.931986,
     "end_time": "2022-10-08T14:59:25.911042",
     "exception": false,
     "start_time": "2022-10-08T14:59:24.979056",
     "status": "completed"
    },
    "tags": []
   },
   "outputs": [],
   "source": [
    "clf = DecisionTreeClassifier(min_impurity_decrease=0.002)\n",
    "clf.fit(X_train, y_train)\n",
    "plt.figure(figsize=(20, 8))\n",
    "plot_tree(clf, fontsize=14, feature_names=X_train.columns, filled=True)\n",
    "plt.show()"
   ]
  },
  {
   "cell_type": "markdown",
   "metadata": {
    "papermill": {
     "duration": 0.028268,
     "end_time": "2022-10-08T14:59:25.969779",
     "exception": false,
     "start_time": "2022-10-08T14:59:25.941511",
     "status": "completed"
    },
    "tags": []
   },
   "source": [
    "Let's look at explained variance ratio."
   ]
  },
  {
   "cell_type": "code",
   "execution_count": null,
   "metadata": {
    "execution": {
     "iopub.execute_input": "2022-10-09T03:32:47.502255Z",
     "iopub.status.busy": "2022-10-09T03:32:47.50163Z",
     "iopub.status.idle": "2022-10-09T03:32:47.964139Z",
     "shell.execute_reply": "2022-10-09T03:32:47.963019Z",
     "shell.execute_reply.started": "2022-10-09T03:32:47.502216Z"
    },
    "papermill": {
     "duration": 0.547454,
     "end_time": "2022-10-08T14:59:26.545758",
     "exception": false,
     "start_time": "2022-10-08T14:59:25.998304",
     "status": "completed"
    },
    "tags": []
   },
   "outputs": [],
   "source": [
    "X_train_std = StandardScaler().fit_transform(X_train)\n",
    "pca = PCA()\n",
    "X_train_pca = pca.fit_transform(X_train_std)\n",
    "exp_var_pca = pca.explained_variance_ratio_\n",
    "cum_sum_eigenvalues = np.cumsum(exp_var_pca)\n",
    "plt.bar(range(0, len(exp_var_pca)), exp_var_pca, alpha=0.5, align=\"center\", label=\"Individual explained variance\")\n",
    "plt.step(range(0, len(cum_sum_eigenvalues)), cum_sum_eigenvalues, where=\"mid\", label=\"Cumulative explained variance\")\n",
    "plt.ylabel(\"Explained variance ratio\")\n",
    "plt.xlabel(\"Principal component index\")\n",
    "plt.legend(loc=\"best\")\n",
    "plt.show()"
   ]
  },
  {
   "cell_type": "markdown",
   "metadata": {
    "papermill": {
     "duration": 0.029038,
     "end_time": "2022-10-08T14:59:26.604017",
     "exception": false,
     "start_time": "2022-10-08T14:59:26.574979",
     "status": "completed"
    },
    "tags": []
   },
   "source": [
    "Finally let's visualize data after reducing it's dimensionality with PCA."
   ]
  },
  {
   "cell_type": "code",
   "execution_count": null,
   "metadata": {
    "execution": {
     "iopub.execute_input": "2022-10-09T03:32:47.966094Z",
     "iopub.status.busy": "2022-10-09T03:32:47.965665Z",
     "iopub.status.idle": "2022-10-09T03:32:49.019735Z",
     "shell.execute_reply": "2022-10-09T03:32:49.018591Z",
     "shell.execute_reply.started": "2022-10-09T03:32:47.966053Z"
    },
    "papermill": {
     "duration": 1.079426,
     "end_time": "2022-10-08T14:59:27.712953",
     "exception": false,
     "start_time": "2022-10-08T14:59:26.633527",
     "status": "completed"
    },
    "tags": []
   },
   "outputs": [],
   "source": [
    "pca = PCA(n_components=2)\n",
    "pca.fit(X_train_std)\n",
    "x0, x1 = pca.components_\n",
    "sns.set(font_scale=1.5)\n",
    "y = data[\"Churn\"].map({0: False, 1: True})\n",
    "fig = sns.pairplot(data=pd.concat([pd.DataFrame(data=X_train_std @ np.stack([x0, x1]).T, columns=[\"PC1\", \"PC2\"]), y], axis=1),\n",
    "                   x_vars=\"PC1\",\n",
    "                   y_vars=\"PC2\",\n",
    "                   hue=\"Churn\",\n",
    "                   markers=('^', 's'),\n",
    "                   palette=[\"blue\", \"red\"],\n",
    "                   plot_kws={'s': 100, 'alpha': 0.5},\n",
    "                   height=6)\n",
    "fig.set(title=\"Customer churn visialization (PCA)\")\n",
    "fig.axes[0][0].axhline(y=0, color='black', lw=3, alpha=0.1)\n",
    "fig.axes[0][0].axvline(x=0, color='black', lw=3, alpha=0.1);"
   ]
  },
  {
   "cell_type": "markdown",
   "metadata": {
    "papermill": {
     "duration": 0.033452,
     "end_time": "2022-10-08T14:59:27.781654",
     "exception": false,
     "start_time": "2022-10-08T14:59:27.748202",
     "status": "completed"
    },
    "tags": []
   },
   "source": [
    "We can roughly divide classes with a stright line. So good old logistic regression probably will do. Let's check it and compare results with other algorithms."
   ]
  },
  {
   "cell_type": "markdown",
   "metadata": {
    "id": "DviiJd8REEZK",
    "papermill": {
     "duration": 0.032669,
     "end_time": "2022-10-08T14:59:27.848001",
     "exception": false,
     "start_time": "2022-10-08T14:59:27.815332",
     "status": "completed"
    },
    "tags": []
   },
   "source": [
    "# Logistic Regression"
   ]
  },
  {
   "cell_type": "markdown",
   "metadata": {
    "papermill": {
     "duration": 0.033866,
     "end_time": "2022-10-08T14:59:27.916015",
     "exception": false,
     "start_time": "2022-10-08T14:59:27.882149",
     "status": "completed"
    },
    "tags": []
   },
   "source": [
    "I've commented out param ranges to save time and left only optimal one."
   ]
  },
  {
   "cell_type": "code",
   "execution_count": null,
   "metadata": {
    "execution": {
     "iopub.execute_input": "2022-10-09T03:32:49.022502Z",
     "iopub.status.busy": "2022-10-09T03:32:49.021456Z",
     "iopub.status.idle": "2022-10-09T03:32:53.158319Z",
     "shell.execute_reply": "2022-10-09T03:32:53.157035Z",
     "shell.execute_reply.started": "2022-10-09T03:32:49.022459Z"
    },
    "id": "P2Yv3uYtEEZO",
    "papermill": {
     "duration": 3.749926,
     "end_time": "2022-10-08T14:59:31.698579",
     "exception": false,
     "start_time": "2022-10-08T14:59:27.948653",
     "status": "completed"
    },
    "tags": []
   },
   "outputs": [],
   "source": [
    "%%time\n",
    "PARAMS = {\n",
    "    \"model__C\": [1.734],  # np.arange(0.001, 100, 0.001)\n",
    "}\n",
    "clf = Pipeline(steps=[\n",
    "    (\"scaler\", StandardScaler()),\n",
    "    (\"model\", LogisticRegression(penalty=\"l1\", solver=\"saga\", max_iter=1000, random_state=42)),\n",
    "])\n",
    "grid_search = GridSearchCV(\n",
    "    estimator=clf,\n",
    "    param_grid=PARAMS,\n",
    "    scoring=\"roc_auc\",\n",
    "    n_jobs=-1,\n",
    "    cv=10,\n",
    "    refit=True,\n",
    ")\n",
    "logreg = grid_search.fit(X_train, y_train)"
   ]
  },
  {
   "cell_type": "code",
   "execution_count": null,
   "metadata": {
    "execution": {
     "iopub.execute_input": "2022-10-09T03:32:53.160385Z",
     "iopub.status.busy": "2022-10-09T03:32:53.160032Z",
     "iopub.status.idle": "2022-10-09T03:32:53.168596Z",
     "shell.execute_reply": "2022-10-09T03:32:53.167303Z",
     "shell.execute_reply.started": "2022-10-09T03:32:53.160349Z"
    },
    "id": "36729TOQEEZR",
    "papermill": {
     "duration": 0.045286,
     "end_time": "2022-10-08T14:59:31.77836",
     "exception": false,
     "start_time": "2022-10-08T14:59:31.733074",
     "status": "completed"
    },
    "tags": []
   },
   "outputs": [],
   "source": [
    "print(f\"best score: {logreg.best_score_}\")\n",
    "print(f\"best params: {logreg.best_params_}\")"
   ]
  },
  {
   "cell_type": "code",
   "execution_count": null,
   "metadata": {
    "execution": {
     "iopub.execute_input": "2022-10-09T03:32:53.171172Z",
     "iopub.status.busy": "2022-10-09T03:32:53.170544Z",
     "iopub.status.idle": "2022-10-09T03:32:53.219744Z",
     "shell.execute_reply": "2022-10-09T03:32:53.217786Z",
     "shell.execute_reply.started": "2022-10-09T03:32:53.171135Z"
    },
    "papermill": {
     "duration": 0.079508,
     "end_time": "2022-10-08T14:59:31.89287",
     "exception": false,
     "start_time": "2022-10-08T14:59:31.813362",
     "status": "completed"
    },
    "tags": []
   },
   "outputs": [],
   "source": [
    "submission = pd.read_csv(INPUT_DIR + \"submission.csv\")\n",
    "submission[\"Churn\"] = logreg.predict_proba(X_test)[:, 1]\n",
    "submission.to_csv(OUTPUT_DIR + \"logreg.csv\", index=False)"
   ]
  },
  {
   "cell_type": "markdown",
   "metadata": {
    "id": "BlTeVy7fEEZR",
    "papermill": {
     "duration": 0.032896,
     "end_time": "2022-10-08T14:59:32.080472",
     "exception": false,
     "start_time": "2022-10-08T14:59:32.047576",
     "status": "completed"
    },
    "tags": []
   },
   "source": [
    "# CatBoost"
   ]
  },
  {
   "cell_type": "code",
   "execution_count": null,
   "metadata": {
    "execution": {
     "iopub.execute_input": "2022-10-09T03:32:53.22374Z",
     "iopub.status.busy": "2022-10-09T03:32:53.22259Z",
     "iopub.status.idle": "2022-10-09T03:33:02.607495Z",
     "shell.execute_reply": "2022-10-09T03:33:02.606232Z",
     "shell.execute_reply.started": "2022-10-09T03:32:53.223664Z"
    },
    "id": "Fioxxlp-EEZS",
    "papermill": {
     "duration": 9.014856,
     "end_time": "2022-10-08T14:59:41.128357",
     "exception": false,
     "start_time": "2022-10-08T14:59:32.113501",
     "status": "completed"
    },
    "tags": []
   },
   "outputs": [],
   "source": [
    "catboost = CatBoostClassifier(\n",
    "    cat_features=cat_cols,\n",
    "    logging_level=\"Silent\",\n",
    "    eval_metric=\"AUC:hints=skip_train~false\",\n",
    "    grow_policy=\"Lossguide\",\n",
    "    metric_period=1000,\n",
    "    random_seed=0,\n",
    ")\n",
    "\n",
    "PARAMS = {\n",
    "    \"n_estimators\": [250],  # [5, 10, 20, 30, 40, 50, 70, 100, 150, 200, 250, 300, 500, 1000],\n",
    "    \"learning_rate\": [0.05],  # [0.0001, 0.0005, 0.001, 0.005, 0.01, 0.02, 0.04, 0.05, 0.1, 0.2, 0.3, 0.5],\n",
    "    \"max_depth\": [4],  # np.arange(4, 20, 1),\n",
    "    \"l2_leaf_reg\": [10],  # np.arange(0.1, 1, 0.05),\n",
    "    \"subsample\": [0.6],  # [3, 5, 7, 10],\n",
    "    \"random_strength\": [5],  # [1, 2, 5, 10, 20, 50, 100],\n",
    "    \"min_data_in_leaf\": [100],  # np.arange(10, 1001, 10),\n",
    "}\n",
    "catboost.grid_search(PARAMS, X_train, y_train, cv=5, plot=True, refit=True)"
   ]
  },
  {
   "cell_type": "code",
   "execution_count": null,
   "metadata": {
    "execution": {
     "iopub.execute_input": "2022-10-09T03:33:02.609575Z",
     "iopub.status.busy": "2022-10-09T03:33:02.608882Z",
     "iopub.status.idle": "2022-10-09T03:33:02.61725Z",
     "shell.execute_reply": "2022-10-09T03:33:02.615821Z",
     "shell.execute_reply.started": "2022-10-09T03:33:02.609527Z"
    },
    "id": "d2d9GolXEEZV",
    "papermill": {
     "duration": 0.044644,
     "end_time": "2022-10-08T14:59:41.207136",
     "exception": false,
     "start_time": "2022-10-08T14:59:41.162492",
     "status": "completed"
    },
    "tags": []
   },
   "outputs": [],
   "source": [
    "print(\"Best score:\", end=' ')\n",
    "pprint(catboost.best_score_)\n",
    "best_params = catboost.get_params()\n",
    "for f in (\"cat_features\", \"logging_level\", \"eval_metric\"):\n",
    "    best_params.pop(f)\n",
    "print(\"Best params:\", end=' ')\n",
    "pprint(best_params)"
   ]
  },
  {
   "cell_type": "code",
   "execution_count": null,
   "metadata": {
    "execution": {
     "iopub.execute_input": "2022-10-09T03:33:02.626417Z",
     "iopub.status.busy": "2022-10-09T03:33:02.626017Z",
     "iopub.status.idle": "2022-10-09T03:33:02.657714Z",
     "shell.execute_reply": "2022-10-09T03:33:02.656707Z",
     "shell.execute_reply.started": "2022-10-09T03:33:02.626387Z"
    },
    "papermill": {
     "duration": 0.066925,
     "end_time": "2022-10-08T14:59:41.308506",
     "exception": false,
     "start_time": "2022-10-08T14:59:41.241581",
     "status": "completed"
    },
    "tags": []
   },
   "outputs": [],
   "source": [
    "submission = pd.read_csv(INPUT_DIR + \"submission.csv\")\n",
    "submission[\"Churn\"] = catboost.predict_proba(X_test)[:, 1]\n",
    "submission.to_csv(OUTPUT_DIR + \"catboost.csv\", index=False)"
   ]
  },
  {
   "cell_type": "markdown",
   "metadata": {
    "papermill": {
     "duration": 0.033025,
     "end_time": "2022-10-08T14:59:41.441361",
     "exception": false,
     "start_time": "2022-10-08T14:59:41.408336",
     "status": "completed"
    },
    "tags": []
   },
   "source": [
    "# KNN"
   ]
  },
  {
   "cell_type": "code",
   "execution_count": null,
   "metadata": {
    "execution": {
     "iopub.execute_input": "2022-10-09T03:33:02.659516Z",
     "iopub.status.busy": "2022-10-09T03:33:02.659152Z",
     "iopub.status.idle": "2022-10-09T03:33:03.324552Z",
     "shell.execute_reply": "2022-10-09T03:33:03.323473Z",
     "shell.execute_reply.started": "2022-10-09T03:33:02.659483Z"
    },
    "papermill": {
     "duration": 0.693189,
     "end_time": "2022-10-08T14:59:42.16778",
     "exception": false,
     "start_time": "2022-10-08T14:59:41.474591",
     "status": "completed"
    },
    "tags": []
   },
   "outputs": [],
   "source": [
    "numeric_transformer = Pipeline(steps=[\n",
    "    (\"scaler\", StandardScaler())\n",
    "])\n",
    "preprocessor = ColumnTransformer(\n",
    "    transformers=[\n",
    "        (\"num\", numeric_transformer, num_cols),\n",
    "        (\"cat\", OneHotEncoder(handle_unknown='ignore'), cat_cols)\n",
    "    ]\n",
    ")\n",
    "PARAMS = {\n",
    "    \"model__n_neighbors\": [44],  # range(1, 100),\n",
    "    \"model__metric\": [\"manhattan\"],  # [\"cityblock\", \"cosine\", \"euclidean\", \"l1\", \"l2\", \"manhattan\", \"nan_euclidean\"],\n",
    "}\n",
    "\n",
    "clf = Pipeline(steps=[\n",
    "    (\"preproc\", preprocessor),\n",
    "    (\"model\", KNeighborsClassifier()),\n",
    "])\n",
    "    \n",
    "grid_search = GridSearchCV(\n",
    "    estimator=clf,\n",
    "    param_grid=PARAMS,\n",
    "    scoring=\"roc_auc\",\n",
    "    n_jobs=-1,\n",
    "    cv=10,\n",
    "    refit=True,\n",
    ")\n",
    "knn = grid_search.fit(X_train, y_train)"
   ]
  },
  {
   "cell_type": "code",
   "execution_count": null,
   "metadata": {
    "execution": {
     "iopub.execute_input": "2022-10-09T03:33:03.326358Z",
     "iopub.status.busy": "2022-10-09T03:33:03.325733Z",
     "iopub.status.idle": "2022-10-09T03:33:03.332205Z",
     "shell.execute_reply": "2022-10-09T03:33:03.331216Z",
     "shell.execute_reply.started": "2022-10-09T03:33:03.326324Z"
    },
    "papermill": {
     "duration": 0.042255,
     "end_time": "2022-10-08T14:59:42.243312",
     "exception": false,
     "start_time": "2022-10-08T14:59:42.201057",
     "status": "completed"
    },
    "tags": []
   },
   "outputs": [],
   "source": [
    "print(f\"best score: {knn.best_score_}\")\n",
    "print(f\"best params: {knn.best_params_}\")"
   ]
  },
  {
   "cell_type": "code",
   "execution_count": null,
   "metadata": {
    "execution": {
     "iopub.execute_input": "2022-10-09T03:33:03.334489Z",
     "iopub.status.busy": "2022-10-09T03:33:03.333488Z",
     "iopub.status.idle": "2022-10-09T03:33:03.760749Z",
     "shell.execute_reply": "2022-10-09T03:33:03.759476Z",
     "shell.execute_reply.started": "2022-10-09T03:33:03.334454Z"
    },
    "papermill": {
     "duration": 0.453358,
     "end_time": "2022-10-08T14:59:42.730221",
     "exception": false,
     "start_time": "2022-10-08T14:59:42.276863",
     "status": "completed"
    },
    "tags": []
   },
   "outputs": [],
   "source": [
    "submission = pd.read_csv(INPUT_DIR + \"submission.csv\")\n",
    "submission[\"Churn\"] = knn.predict_proba(X_test)[:, 1]\n",
    "submission.to_csv(OUTPUT_DIR + \"knn.csv\", index=False)"
   ]
  },
  {
   "cell_type": "markdown",
   "metadata": {
    "papermill": {
     "duration": 0.033412,
     "end_time": "2022-10-08T14:59:42.863284",
     "exception": false,
     "start_time": "2022-10-08T14:59:42.829872",
     "status": "completed"
    },
    "tags": []
   },
   "source": [
    "# Random Forest"
   ]
  },
  {
   "cell_type": "code",
   "execution_count": null,
   "metadata": {
    "execution": {
     "iopub.execute_input": "2022-10-09T03:33:03.762384Z",
     "iopub.status.busy": "2022-10-09T03:33:03.762051Z",
     "iopub.status.idle": "2022-10-09T03:33:09.268052Z",
     "shell.execute_reply": "2022-10-09T03:33:09.267115Z",
     "shell.execute_reply.started": "2022-10-09T03:33:03.762354Z"
    },
    "papermill": {
     "duration": 5.554089,
     "end_time": "2022-10-08T14:59:48.450574",
     "exception": false,
     "start_time": "2022-10-08T14:59:42.896485",
     "status": "completed"
    },
    "tags": []
   },
   "outputs": [],
   "source": [
    "PARAMS = {\n",
    "    \"min_samples_split\": [9],  # range(2, 200),\n",
    "    \"min_samples_leaf\": [18],  # range(1, 200),\n",
    "}\n",
    "clf = RandomForestClassifier(n_estimators=200, random_state=42)\n",
    "\n",
    "grid_search = GridSearchCV(clf, PARAMS, scoring=\"roc_auc\", cv=5)\n",
    "rf = grid_search.fit(X_train, y_train);"
   ]
  },
  {
   "cell_type": "code",
   "execution_count": null,
   "metadata": {
    "execution": {
     "iopub.execute_input": "2022-10-09T03:33:09.269628Z",
     "iopub.status.busy": "2022-10-09T03:33:09.269309Z",
     "iopub.status.idle": "2022-10-09T03:33:09.275342Z",
     "shell.execute_reply": "2022-10-09T03:33:09.274249Z",
     "shell.execute_reply.started": "2022-10-09T03:33:09.269599Z"
    },
    "papermill": {
     "duration": 0.043993,
     "end_time": "2022-10-08T14:59:48.529355",
     "exception": false,
     "start_time": "2022-10-08T14:59:48.485362",
     "status": "completed"
    },
    "tags": []
   },
   "outputs": [],
   "source": [
    "print(f\"Best score: {rf.best_score_}\")\n",
    "print(f\"Best params: {rf.best_params_}\")"
   ]
  },
  {
   "cell_type": "code",
   "execution_count": null,
   "metadata": {
    "execution": {
     "iopub.execute_input": "2022-10-09T03:33:09.277814Z",
     "iopub.status.busy": "2022-10-09T03:33:09.277073Z",
     "iopub.status.idle": "2022-10-09T03:33:09.381784Z",
     "shell.execute_reply": "2022-10-09T03:33:09.38062Z",
     "shell.execute_reply.started": "2022-10-09T03:33:09.27777Z"
    },
    "papermill": {
     "duration": 0.146625,
     "end_time": "2022-10-08T14:59:48.709559",
     "exception": false,
     "start_time": "2022-10-08T14:59:48.562934",
     "status": "completed"
    },
    "tags": []
   },
   "outputs": [],
   "source": [
    "submission = pd.read_csv(INPUT_DIR + \"submission.csv\")\n",
    "submission[\"Churn\"] = rf.predict_proba(X_test)[:, 1]\n",
    "submission.to_csv(OUTPUT_DIR + \"rf.csv\", index=False)"
   ]
  },
  {
   "cell_type": "markdown",
   "metadata": {
    "papermill": {
     "duration": 0.034038,
     "end_time": "2022-10-08T14:59:48.848714",
     "exception": false,
     "start_time": "2022-10-08T14:59:48.814676",
     "status": "completed"
    },
    "tags": []
   },
   "source": [
    "# Stacking"
   ]
  },
  {
   "cell_type": "markdown",
   "metadata": {
    "papermill": {
     "duration": 0.035459,
     "end_time": "2022-10-08T14:59:48.919745",
     "exception": false,
     "start_time": "2022-10-08T14:59:48.884286",
     "status": "completed"
    },
    "tags": []
   },
   "source": [
    "Finally let's create stacking ensemble from all these models."
   ]
  },
  {
   "cell_type": "code",
   "execution_count": null,
   "metadata": {
    "execution": {
     "iopub.execute_input": "2022-10-09T03:33:09.383731Z",
     "iopub.status.busy": "2022-10-09T03:33:09.383369Z",
     "iopub.status.idle": "2022-10-09T03:33:45.23544Z",
     "shell.execute_reply": "2022-10-09T03:33:45.234336Z",
     "shell.execute_reply.started": "2022-10-09T03:33:09.3837Z"
    },
    "papermill": {
     "duration": 35.953415,
     "end_time": "2022-10-08T15:00:24.908652",
     "exception": false,
     "start_time": "2022-10-08T14:59:48.955237",
     "status": "completed"
    },
    "tags": []
   },
   "outputs": [],
   "source": [
    "meta = CatBoostClassifier(\n",
    "    logging_level='Silent',\n",
    "    eval_metric=\"AUC:hints=skip_train~false\",\n",
    "    metric_period=1000,\n",
    "    random_seed=0,\n",
    "    grow_policy=\"Depthwise\",\n",
    "    l2_leaf_reg=1,\n",
    "    learning_rate=0.08,\n",
    "    max_depth=10,\n",
    "    min_data_in_leaf=10,\n",
    "    n_estimators=10,\n",
    "    random_strength=11,\n",
    "    subsample=0.1,\n",
    ")\n",
    "stacking = StackingClassifier(\n",
    "    estimators=[\n",
    "        (\"logreg\", logreg),\n",
    "        (\"knn\", knn),\n",
    "        (\"rf\", rf),\n",
    "        (\"catboost\", catboost),\n",
    "    ],\n",
    "    final_estimator=meta,\n",
    "    n_jobs=-1,\n",
    ")\n",
    "\n",
    "stacking.fit(X_train, y_train)"
   ]
  },
  {
   "cell_type": "markdown",
   "metadata": {
    "id": "dDMXbvNZEEZV",
    "papermill": {
     "duration": 0.034071,
     "end_time": "2022-10-08T15:00:24.977142",
     "exception": false,
     "start_time": "2022-10-08T15:00:24.943071",
     "status": "completed"
    },
    "tags": []
   },
   "source": [
    "# Final Prediction"
   ]
  },
  {
   "cell_type": "code",
   "execution_count": null,
   "metadata": {
    "execution": {
     "iopub.execute_input": "2022-10-09T03:33:45.237311Z",
     "iopub.status.busy": "2022-10-09T03:33:45.23673Z",
     "iopub.status.idle": "2022-10-09T03:33:45.243048Z",
     "shell.execute_reply": "2022-10-09T03:33:45.241883Z",
     "shell.execute_reply.started": "2022-10-09T03:33:45.237275Z"
    },
    "id": "G_P4wFNaEEZW",
    "outputId": "1fba5dfc-88e4-49e3-ed8a-afe21ae3325a",
    "papermill": {
     "duration": 0.042767,
     "end_time": "2022-10-08T15:00:25.054083",
     "exception": false,
     "start_time": "2022-10-08T15:00:25.011316",
     "status": "completed"
    },
    "tags": []
   },
   "outputs": [],
   "source": [
    "best_model = stacking"
   ]
  },
  {
   "cell_type": "code",
   "execution_count": null,
   "metadata": {
    "execution": {
     "iopub.execute_input": "2022-10-09T03:33:45.244813Z",
     "iopub.status.busy": "2022-10-09T03:33:45.244382Z",
     "iopub.status.idle": "2022-10-09T03:33:45.825623Z",
     "shell.execute_reply": "2022-10-09T03:33:45.824306Z",
     "shell.execute_reply.started": "2022-10-09T03:33:45.244781Z"
    },
    "id": "FfSufx0CEEZZ",
    "papermill": {
     "duration": 0.616165,
     "end_time": "2022-10-08T15:00:25.704254",
     "exception": false,
     "start_time": "2022-10-08T15:00:25.088089",
     "status": "completed"
    },
    "tags": []
   },
   "outputs": [],
   "source": [
    "y_pred = best_model.predict_proba(X_test)[:, 1]\n",
    "submission = pd.read_csv(INPUT_DIR + \"./submission.csv\")\n",
    "submission['Churn'] = y_pred\n",
    "submission.to_csv(OUTPUT_DIR + \"./my_submission.csv\", index=False)"
   ]
  },
  {
   "cell_type": "code",
   "execution_count": null,
   "metadata": {
    "execution": {
     "iopub.execute_input": "2022-10-09T03:33:45.827371Z",
     "iopub.status.busy": "2022-10-09T03:33:45.82703Z",
     "iopub.status.idle": "2022-10-09T03:33:46.931733Z",
     "shell.execute_reply": "2022-10-09T03:33:46.930453Z",
     "shell.execute_reply.started": "2022-10-09T03:33:45.827342Z"
    }
   },
   "outputs": [],
   "source": [
    "# delete temporary files\n",
    "!rm -r catboost_info"
   ]
  }
 ],
 "metadata": {
  "kernelspec": {
   "display_name": "Python 3 (ipykernel)",
   "language": "python",
   "name": "python3"
  },
  "language_info": {
   "codemirror_mode": {
    "name": "ipython",
    "version": 3
   },
   "file_extension": ".py",
   "mimetype": "text/x-python",
   "name": "python",
   "nbconvert_exporter": "python",
   "pygments_lexer": "ipython3",
   "version": "3.9.14"
  }
 },
 "nbformat": 4,
 "nbformat_minor": 4
}
